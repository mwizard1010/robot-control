{
 "cells": [
  {
   "cell_type": "code",
   "execution_count": 22,
   "source": [
    "import numpy as np\n",
    "import pandas as pd\n",
    "import matplotlib.pyplot as plt\n",
    "resultsFolder = 'results/continuous/tests/'\n",
    "def get_value(filename, pro = None, acc = None) :\n",
    "    data = []\n",
    "    data_total = []\n",
    "    for i in range(5):\n",
    "        fname = resultsFolder + filename + str(i) + '_' + str(pro) + '_' + str(acc) + '_False' + '.csv'\n",
    "        tt = pd.read_csv(fname).iloc[:,1] # read column 1\n",
    "        rw = pd.read_csv(fname).iloc[:,2] # read column 2\n",
    "        data_total.append()\n",
    "        data.append(rw)\n",
    "    merged_total = pd.concat(data_total,axis=1)\n",
    "    sum_total = merged_total.sum()\n",
    "    mean_total = sum_total.mean()\n",
    "\n",
    "    merged_data = pd.concat(data,axis=1)   \n",
    "    sum_data = merged_data.sum()\n",
    "    mean_data = sum_data.mean()\n",
    "\n",
    "    print(sum, mean_data/mean_total)\n",
    "    return sum\n",
    "\n",
    "def get_value_bpa(filename, pro = None, acc = None) :\n",
    "    data = []\n",
    "    data_total = []\n",
    "    for i in range(5):\n",
    "        fname = resultsFolder + filename + str(i) + '_' + str(pro) + '_' + str(acc) + '_True' + '.csv'\n",
    "        tt = pd.read_csv(fname).iloc[:,1] # read column 1\n",
    "        rw = pd.read_csv(fname).iloc[:,2] # read column 2\n",
    "        data_total.append()\n",
    "        data.append(rw)\n",
    "    merged_total = pd.concat(data_total,axis=1)\n",
    "    sum_total = merged_total.sum()\n",
    "    mean_total = sum_total.mean()\n",
    "\n",
    "    merged_data = pd.concat(data,axis=1)   \n",
    "    sum_data = merged_data.sum()\n",
    "    mean_data = sum_data.mean()\n",
    "\n",
    "    print(sum, mean_data/mean_total)\n",
    "    return sum"
   ],
   "outputs": [],
   "metadata": {}
  },
  {
   "cell_type": "code",
   "execution_count": 23,
   "source": [
    "IRLOptmist = get_value(\"rewardsIRL\", 1, 1)\n",
    "IRLOptmistBPA = get_value_bpa(\"rewardsIRL\", 1, 1)\n",
    "IRLReal = get_value(\"rewardsIRL\", 0.47316, 0.9487)\n",
    "IRLRealBPA = get_value_bpa(\"rewardsIRL\", 0.47316, 0.9487)\n",
    "IRLPessmistic = get_value(\"rewardsIRL\", 0.23658, 0.47435)\n",
    "IRLPessmisticBPA = get_value_bpa(\"rewardsIRL\", 0.23658, 0.47435)"
   ],
   "outputs": [
    {
     "output_type": "stream",
     "name": "stdout",
     "text": [
      "99796.4\n",
      "99846.0\n",
      "40976.6\n",
      "41832.6\n",
      "18034.2\n",
      "16684.6\n"
     ]
    }
   ],
   "metadata": {}
  },
  {
   "cell_type": "code",
   "execution_count": null,
   "source": [],
   "outputs": [],
   "metadata": {}
  },
  {
   "cell_type": "code",
   "execution_count": null,
   "source": [],
   "outputs": [],
   "metadata": {}
  },
  {
   "cell_type": "code",
   "execution_count": null,
   "source": [],
   "outputs": [],
   "metadata": {}
  }
 ],
 "metadata": {
  "interpreter": {
   "hash": "067529e8a57071919e6b8e6defe94b6cbeea1fd5fc96df197c4a301c7376cfd9"
  },
  "kernelspec": {
   "name": "python3",
   "display_name": "Python 3.7.6 64-bit ('base': conda)"
  },
  "language_info": {
   "name": "python",
   "version": "3.7.6",
   "mimetype": "text/x-python",
   "codemirror_mode": {
    "name": "ipython",
    "version": 3
   },
   "pygments_lexer": "ipython3",
   "nbconvert_exporter": "python",
   "file_extension": ".py"
  }
 },
 "nbformat": 4,
 "nbformat_minor": 2
}