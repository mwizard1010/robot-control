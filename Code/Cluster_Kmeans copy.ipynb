{
 "cells": [
  {
   "cell_type": "code",
   "execution_count": 16,
   "source": [
    "import struct \n",
    "\n",
    "data = pickle.dumps(('dasd', 'dasd', True))\n",
    "h2 = pickle.loads(data)"
   ],
   "outputs": [
    {
     "output_type": "stream",
     "name": "stdout",
     "text": [
      "1\n"
     ]
    }
   ],
   "metadata": {}
  }
 ],
 "metadata": {
  "interpreter": {
   "hash": "067529e8a57071919e6b8e6defe94b6cbeea1fd5fc96df197c4a301c7376cfd9"
  },
  "kernelspec": {
   "display_name": "Python 3.7.6 64-bit ('base': conda)",
   "name": "python3"
  },
  "language_info": {
   "name": "python",
   "version": ""
  }
 },
 "nbformat": 4,
 "nbformat_minor": 2
}